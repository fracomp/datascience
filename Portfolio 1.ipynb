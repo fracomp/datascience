{
 "cells": [
  {
   "cell_type": "code",
   "execution_count": 295,
   "metadata": {},
   "outputs": [],
   "source": [
    "import pandas as pd\n",
    "from matplotlib import pyplot as plt\n",
    "from datetime import timedelta\n",
    "import numpy.random as random\n",
    "import numpy as np\n",
    "import seaborn as sns\n",
    "plt.style.use('seaborn')\n",
    "%matplotlib inline"
   ]
  },
  {
   "cell_type": "markdown",
   "metadata": {},
   "source": [
    "# Analysis of Cycling Data\n",
    "\n",
    "## Loading Data\n",
    "\n",
    "The first dataset is an export of my ride data from [Strava](https://strava.com/), an online social \n",
    "network site for cycling and other sports.  This data is a log of every ride since the start of 2018\n",
    "and contains summary data like the distance and average speed.  It was exported using \n",
    "the script `stravaget.py` which uses the stravalib module to read data. Some details of\n",
    "the fields exported by that script can be seen in [the documentation for stravalib](https://pythonhosted.org/stravalib/api.html#stravalib.model.Activity). \n",
    "\n",
    "The exported data is a CSV file so that's easy to read, however the date information in the file is \n",
    "recorded in a different timezone (UTC) so we need to do a bit of conversion.  In reading the data I'm\n",
    "setting the index of the data frame to be the datetime of the ride. "
   ]
  },
  {
   "cell_type": "code",
   "execution_count": 296,
   "metadata": {
    "scrolled": true
   },
   "outputs": [
    {
     "data": {
      "text/html": [
       "<div>\n",
       "<style scoped>\n",
       "    .dataframe tbody tr th:only-of-type {\n",
       "        vertical-align: middle;\n",
       "    }\n",
       "\n",
       "    .dataframe tbody tr th {\n",
       "        vertical-align: top;\n",
       "    }\n",
       "\n",
       "    .dataframe thead th {\n",
       "        text-align: right;\n",
       "    }\n",
       "</style>\n",
       "<table border=\"1\" class=\"dataframe\">\n",
       "  <thead>\n",
       "    <tr style=\"text-align: right;\">\n",
       "      <th></th>\n",
       "      <th>average_heartrate</th>\n",
       "      <th>average_temp</th>\n",
       "      <th>average_watts</th>\n",
       "      <th>device_watts</th>\n",
       "      <th>distance</th>\n",
       "      <th>elapsed_time</th>\n",
       "      <th>elevation_gain</th>\n",
       "      <th>kudos</th>\n",
       "      <th>moving_time</th>\n",
       "      <th>workout_type</th>\n",
       "    </tr>\n",
       "    <tr>\n",
       "      <th>date</th>\n",
       "      <th></th>\n",
       "      <th></th>\n",
       "      <th></th>\n",
       "      <th></th>\n",
       "      <th></th>\n",
       "      <th></th>\n",
       "      <th></th>\n",
       "      <th></th>\n",
       "      <th></th>\n",
       "      <th></th>\n",
       "    </tr>\n",
       "  </thead>\n",
       "  <tbody>\n",
       "    <tr>\n",
       "      <th>2018-01-03 07:47:51+11:00</th>\n",
       "      <td>100.6</td>\n",
       "      <td>21.0</td>\n",
       "      <td>73.8</td>\n",
       "      <td>False</td>\n",
       "      <td>15.2</td>\n",
       "      <td>94</td>\n",
       "      <td>316.00 m</td>\n",
       "      <td>10</td>\n",
       "      <td>73</td>\n",
       "      <td>Ride</td>\n",
       "    </tr>\n",
       "    <tr>\n",
       "      <th>2018-01-04 12:36:53+11:00</th>\n",
       "      <td>NaN</td>\n",
       "      <td>24.0</td>\n",
       "      <td>131.7</td>\n",
       "      <td>False</td>\n",
       "      <td>18.0</td>\n",
       "      <td>52</td>\n",
       "      <td>236.00 m</td>\n",
       "      <td>5</td>\n",
       "      <td>46</td>\n",
       "      <td>Ride</td>\n",
       "    </tr>\n",
       "    <tr>\n",
       "      <th>2018-01-04 13:56:00+11:00</th>\n",
       "      <td>83.1</td>\n",
       "      <td>25.0</td>\n",
       "      <td>13.8</td>\n",
       "      <td>False</td>\n",
       "      <td>0.0</td>\n",
       "      <td>3</td>\n",
       "      <td>0.00 m</td>\n",
       "      <td>2</td>\n",
       "      <td>2</td>\n",
       "      <td>Ride</td>\n",
       "    </tr>\n",
       "    <tr>\n",
       "      <th>2018-01-04 16:37:04+11:00</th>\n",
       "      <td>110.1</td>\n",
       "      <td>24.0</td>\n",
       "      <td>113.6</td>\n",
       "      <td>False</td>\n",
       "      <td>22.9</td>\n",
       "      <td>77</td>\n",
       "      <td>246.00 m</td>\n",
       "      <td>8</td>\n",
       "      <td>64</td>\n",
       "      <td>Ride</td>\n",
       "    </tr>\n",
       "    <tr>\n",
       "      <th>2018-01-06 06:22:46+11:00</th>\n",
       "      <td>110.9</td>\n",
       "      <td>20.0</td>\n",
       "      <td>147.7</td>\n",
       "      <td>True</td>\n",
       "      <td>58.4</td>\n",
       "      <td>189</td>\n",
       "      <td>676.00 m</td>\n",
       "      <td>12</td>\n",
       "      <td>144</td>\n",
       "      <td>Ride</td>\n",
       "    </tr>\n",
       "  </tbody>\n",
       "</table>\n",
       "</div>"
      ],
      "text/plain": [
       "                           average_heartrate  average_temp  average_watts  \\\n",
       "date                                                                        \n",
       "2018-01-03 07:47:51+11:00              100.6          21.0           73.8   \n",
       "2018-01-04 12:36:53+11:00                NaN          24.0          131.7   \n",
       "2018-01-04 13:56:00+11:00               83.1          25.0           13.8   \n",
       "2018-01-04 16:37:04+11:00              110.1          24.0          113.6   \n",
       "2018-01-06 06:22:46+11:00              110.9          20.0          147.7   \n",
       "\n",
       "                          device_watts  distance  elapsed_time elevation_gain  \\\n",
       "date                                                                            \n",
       "2018-01-03 07:47:51+11:00        False      15.2            94       316.00 m   \n",
       "2018-01-04 12:36:53+11:00        False      18.0            52       236.00 m   \n",
       "2018-01-04 13:56:00+11:00        False       0.0             3         0.00 m   \n",
       "2018-01-04 16:37:04+11:00        False      22.9            77       246.00 m   \n",
       "2018-01-06 06:22:46+11:00         True      58.4           189       676.00 m   \n",
       "\n",
       "                           kudos  moving_time workout_type  \n",
       "date                                                        \n",
       "2018-01-03 07:47:51+11:00     10           73         Ride  \n",
       "2018-01-04 12:36:53+11:00      5           46         Ride  \n",
       "2018-01-04 13:56:00+11:00      2            2         Ride  \n",
       "2018-01-04 16:37:04+11:00      8           64         Ride  \n",
       "2018-01-06 06:22:46+11:00     12          144         Ride  "
      ]
     },
     "execution_count": 296,
     "metadata": {},
     "output_type": "execute_result"
    }
   ],
   "source": [
    "strava = pd.read_csv('data/strava_export.csv', index_col='date', parse_dates=True)\n",
    "strava.index = strava.index.tz_convert('Australia/Sydney')\n",
    "strava.head()"
   ]
  },
  {
   "cell_type": "markdown",
   "metadata": {},
   "source": [
    "The second dataset comes from an application called [GoldenCheetah](https://www.goldencheetah.org/) which provides\n",
    "some analytics services over ride data.  This has some of the same fields but adds a lot of analysis of the \n",
    "power, speed and heart rate data in each ride.  This data overlaps with the Strava data but doesn't include all \n",
    "of the same rides. \n",
    "\n",
    "Again we create an index using the datetime for each ride, this time combining two columns in the data (date and time) \n",
    "and localising to Sydney so that the times match those for the Strava data. "
   ]
  },
  {
   "cell_type": "code",
   "execution_count": 297,
   "metadata": {
    "scrolled": false
   },
   "outputs": [
    {
     "data": {
      "text/html": [
       "<div>\n",
       "<style scoped>\n",
       "    .dataframe tbody tr th:only-of-type {\n",
       "        vertical-align: middle;\n",
       "    }\n",
       "\n",
       "    .dataframe tbody tr th {\n",
       "        vertical-align: top;\n",
       "    }\n",
       "\n",
       "    .dataframe thead th {\n",
       "        text-align: right;\n",
       "    }\n",
       "</style>\n",
       "<table border=\"1\" class=\"dataframe\">\n",
       "  <thead>\n",
       "    <tr style=\"text-align: right;\">\n",
       "      <th></th>\n",
       "      <th>date</th>\n",
       "      <th>time</th>\n",
       "      <th>filename</th>\n",
       "      <th>axPower</th>\n",
       "      <th>aPower Relative Intensity</th>\n",
       "      <th>aBikeScore</th>\n",
       "      <th>Skiba aVI</th>\n",
       "      <th>aPower Response Index</th>\n",
       "      <th>aIsoPower</th>\n",
       "      <th>aIF</th>\n",
       "      <th>...</th>\n",
       "      <th>Rest AVNN</th>\n",
       "      <th>Rest SDNN</th>\n",
       "      <th>Rest rMSSD</th>\n",
       "      <th>Rest PNN50</th>\n",
       "      <th>Rest LF</th>\n",
       "      <th>Rest HF</th>\n",
       "      <th>HRV Recovery Points</th>\n",
       "      <th>NP</th>\n",
       "      <th>IF</th>\n",
       "      <th>TSS</th>\n",
       "    </tr>\n",
       "  </thead>\n",
       "  <tbody>\n",
       "    <tr>\n",
       "      <th>2018-01-28 06:39:49+11:00</th>\n",
       "      <td>01/28/18</td>\n",
       "      <td>06:39:49</td>\n",
       "      <td>2018_01_28_06_39_49.json</td>\n",
       "      <td>202.211</td>\n",
       "      <td>0.75452</td>\n",
       "      <td>16.6520</td>\n",
       "      <td>1.31920</td>\n",
       "      <td>1.67755</td>\n",
       "      <td>223.621</td>\n",
       "      <td>0.83441</td>\n",
       "      <td>...</td>\n",
       "      <td>0</td>\n",
       "      <td>0</td>\n",
       "      <td>0</td>\n",
       "      <td>0</td>\n",
       "      <td>0</td>\n",
       "      <td>0</td>\n",
       "      <td>0</td>\n",
       "      <td>222.856</td>\n",
       "      <td>0.83155</td>\n",
       "      <td>20.2257</td>\n",
       "    </tr>\n",
       "    <tr>\n",
       "      <th>2018-01-28 07:01:32+11:00</th>\n",
       "      <td>01/28/18</td>\n",
       "      <td>07:01:32</td>\n",
       "      <td>2018_01_28_07_01_32.json</td>\n",
       "      <td>226.039</td>\n",
       "      <td>0.84343</td>\n",
       "      <td>80.2669</td>\n",
       "      <td>1.21137</td>\n",
       "      <td>1.54250</td>\n",
       "      <td>246.185</td>\n",
       "      <td>0.91860</td>\n",
       "      <td>...</td>\n",
       "      <td>0</td>\n",
       "      <td>0</td>\n",
       "      <td>0</td>\n",
       "      <td>0</td>\n",
       "      <td>0</td>\n",
       "      <td>0</td>\n",
       "      <td>0</td>\n",
       "      <td>245.365</td>\n",
       "      <td>0.91554</td>\n",
       "      <td>94.5787</td>\n",
       "    </tr>\n",
       "    <tr>\n",
       "      <th>2018-02-01 08:13:34+11:00</th>\n",
       "      <td>02/01/18</td>\n",
       "      <td>08:13:34</td>\n",
       "      <td>2018_02_01_08_13_34.json</td>\n",
       "      <td>0.000</td>\n",
       "      <td>0.00000</td>\n",
       "      <td>0.0000</td>\n",
       "      <td>0.00000</td>\n",
       "      <td>0.00000</td>\n",
       "      <td>0.000</td>\n",
       "      <td>0.00000</td>\n",
       "      <td>...</td>\n",
       "      <td>0</td>\n",
       "      <td>0</td>\n",
       "      <td>0</td>\n",
       "      <td>0</td>\n",
       "      <td>0</td>\n",
       "      <td>0</td>\n",
       "      <td>0</td>\n",
       "      <td>0.000</td>\n",
       "      <td>0.00000</td>\n",
       "      <td>0.0000</td>\n",
       "    </tr>\n",
       "    <tr>\n",
       "      <th>2018-02-06 08:06:42+11:00</th>\n",
       "      <td>02/06/18</td>\n",
       "      <td>08:06:42</td>\n",
       "      <td>2018_02_06_08_06_42.json</td>\n",
       "      <td>221.672</td>\n",
       "      <td>0.82714</td>\n",
       "      <td>78.8866</td>\n",
       "      <td>1.35775</td>\n",
       "      <td>1.86002</td>\n",
       "      <td>254.409</td>\n",
       "      <td>0.94929</td>\n",
       "      <td>...</td>\n",
       "      <td>0</td>\n",
       "      <td>0</td>\n",
       "      <td>0</td>\n",
       "      <td>0</td>\n",
       "      <td>0</td>\n",
       "      <td>0</td>\n",
       "      <td>0</td>\n",
       "      <td>253.702</td>\n",
       "      <td>0.94665</td>\n",
       "      <td>98.3269</td>\n",
       "    </tr>\n",
       "    <tr>\n",
       "      <th>2018-02-07 17:59:05+11:00</th>\n",
       "      <td>02/07/18</td>\n",
       "      <td>17:59:05</td>\n",
       "      <td>2018_02_07_17_59_05.json</td>\n",
       "      <td>218.211</td>\n",
       "      <td>0.81422</td>\n",
       "      <td>159.4590</td>\n",
       "      <td>1.47188</td>\n",
       "      <td>1.74658</td>\n",
       "      <td>233.780</td>\n",
       "      <td>0.87231</td>\n",
       "      <td>...</td>\n",
       "      <td>0</td>\n",
       "      <td>0</td>\n",
       "      <td>0</td>\n",
       "      <td>0</td>\n",
       "      <td>0</td>\n",
       "      <td>0</td>\n",
       "      <td>0</td>\n",
       "      <td>232.644</td>\n",
       "      <td>0.86808</td>\n",
       "      <td>171.0780</td>\n",
       "    </tr>\n",
       "  </tbody>\n",
       "</table>\n",
       "<p>5 rows × 362 columns</p>\n",
       "</div>"
      ],
      "text/plain": [
       "                               date      time                  filename  \\\n",
       "2018-01-28 06:39:49+11:00  01/28/18  06:39:49  2018_01_28_06_39_49.json   \n",
       "2018-01-28 07:01:32+11:00  01/28/18  07:01:32  2018_01_28_07_01_32.json   \n",
       "2018-02-01 08:13:34+11:00  02/01/18  08:13:34  2018_02_01_08_13_34.json   \n",
       "2018-02-06 08:06:42+11:00  02/06/18  08:06:42  2018_02_06_08_06_42.json   \n",
       "2018-02-07 17:59:05+11:00  02/07/18  17:59:05  2018_02_07_17_59_05.json   \n",
       "\n",
       "                           axPower  aPower Relative Intensity  aBikeScore  \\\n",
       "2018-01-28 06:39:49+11:00  202.211                    0.75452     16.6520   \n",
       "2018-01-28 07:01:32+11:00  226.039                    0.84343     80.2669   \n",
       "2018-02-01 08:13:34+11:00    0.000                    0.00000      0.0000   \n",
       "2018-02-06 08:06:42+11:00  221.672                    0.82714     78.8866   \n",
       "2018-02-07 17:59:05+11:00  218.211                    0.81422    159.4590   \n",
       "\n",
       "                           Skiba aVI  aPower Response Index  aIsoPower  \\\n",
       "2018-01-28 06:39:49+11:00    1.31920                1.67755    223.621   \n",
       "2018-01-28 07:01:32+11:00    1.21137                1.54250    246.185   \n",
       "2018-02-01 08:13:34+11:00    0.00000                0.00000      0.000   \n",
       "2018-02-06 08:06:42+11:00    1.35775                1.86002    254.409   \n",
       "2018-02-07 17:59:05+11:00    1.47188                1.74658    233.780   \n",
       "\n",
       "                               aIF  ...  Rest AVNN  Rest SDNN  Rest rMSSD  \\\n",
       "2018-01-28 06:39:49+11:00  0.83441  ...          0          0           0   \n",
       "2018-01-28 07:01:32+11:00  0.91860  ...          0          0           0   \n",
       "2018-02-01 08:13:34+11:00  0.00000  ...          0          0           0   \n",
       "2018-02-06 08:06:42+11:00  0.94929  ...          0          0           0   \n",
       "2018-02-07 17:59:05+11:00  0.87231  ...          0          0           0   \n",
       "\n",
       "                           Rest PNN50  Rest LF  Rest HF  HRV Recovery Points  \\\n",
       "2018-01-28 06:39:49+11:00           0        0        0                    0   \n",
       "2018-01-28 07:01:32+11:00           0        0        0                    0   \n",
       "2018-02-01 08:13:34+11:00           0        0        0                    0   \n",
       "2018-02-06 08:06:42+11:00           0        0        0                    0   \n",
       "2018-02-07 17:59:05+11:00           0        0        0                    0   \n",
       "\n",
       "                                NP       IF       TSS  \n",
       "2018-01-28 06:39:49+11:00  222.856  0.83155   20.2257  \n",
       "2018-01-28 07:01:32+11:00  245.365  0.91554   94.5787  \n",
       "2018-02-01 08:13:34+11:00    0.000  0.00000    0.0000  \n",
       "2018-02-06 08:06:42+11:00  253.702  0.94665   98.3269  \n",
       "2018-02-07 17:59:05+11:00  232.644  0.86808  171.0780  \n",
       "\n",
       "[5 rows x 362 columns]"
      ]
     },
     "execution_count": 297,
     "metadata": {},
     "output_type": "execute_result"
    }
   ],
   "source": [
    "cheetah = pd.read_csv('data/cheetah.csv', skipinitialspace=True)\n",
    "cheetah.index = pd.to_datetime(cheetah['date'] + ' ' + cheetah['time'])\n",
    "cheetah.index = cheetah.index.tz_localize('Australia/Sydney')\n",
    "cheetah.head()"
   ]
  },
  {
   "cell_type": "markdown",
   "metadata": {},
   "source": [
    "Once you have read the two datasets into the corresponding dataframes, the next step is checking the size of the initial datasets. \n",
    "The dataset derived from strava contains 268 records and 10 colums, while the dataset from cheetah has 251 observations and 362 colums."
   ]
  },
  {
   "cell_type": "code",
   "execution_count": 298,
   "metadata": {},
   "outputs": [
    {
     "name": "stdout",
     "output_type": "stream",
     "text": [
      "Strava dataset contains 268 rows and 10 columns\n",
      "Cheetah dataset contains 251 rows and 362 columns\n"
     ]
    }
   ],
   "source": [
    "print('Strava dataset contains',strava.shape[0],'rows and',strava.shape[1],'columns')\n",
    "print('Cheetah dataset contains',cheetah.shape[0],'rows and',cheetah.shape[1],'columns')"
   ]
  },
  {
   "cell_type": "markdown",
   "metadata": {},
   "source": [
    "The definitions of some of the more important fields in the data are explained in the readme file."
   ]
  },
  {
   "cell_type": "markdown",
   "metadata": {},
   "source": [
    "## Your Tasks\n",
    "\n",
    "Your first task is to combine these two data frames using the [`join` method of Pandas](https://pandas.pydata.org/pandas-docs/stable/user_guide/merging.html#joining-on-index).   The goal is to keep only those rows of data \n",
    "that appear in __both__ data frames so that we have complete data for every row.  "
   ]
  },
  {
   "cell_type": "code",
   "execution_count": 299,
   "metadata": {},
   "outputs": [
    {
     "name": "stdout",
     "output_type": "stream",
     "text": [
      "The combined dataset now contains 243 rows and 372 columns\n"
     ]
    }
   ],
   "source": [
    "cd=cheetah.join(strava,how='inner')\n",
    "print('The combined dataset now contains',cd.shape[0],'rows and',cd.shape[1],'columns')\n"
   ]
  },
  {
   "cell_type": "markdown",
   "metadata": {},
   "source": [
    "# Required Analysis"
   ]
  },
  {
   "cell_type": "markdown",
   "metadata": {},
   "source": [
    "1)Remove rides with no measured power (where device_watts is False) - these are commutes or MTB rides"
   ]
  },
  {
   "cell_type": "code",
   "execution_count": 300,
   "metadata": {},
   "outputs": [
    {
     "name": "stdout",
     "output_type": "stream",
     "text": [
      "The dataset with no measured power now contains 209 rows and 372 columns\n"
     ]
    }
   ],
   "source": [
    "drop_indexes=cd[cd['device_watts']==False].index\n",
    "cd.drop(drop_indexes,inplace=True)\n",
    "print('The dataset with no measured power now contains',cd.shape[0],'rows and',cd.shape[1],'columns')"
   ]
  },
  {
   "cell_type": "markdown",
   "metadata": {},
   "source": [
    "2)Look at the distributions of some key variables: time, distance, average speed, average power, TSS. Are they normally distributed? Skewed?"
   ]
  },
  {
   "cell_type": "markdown",
   "metadata": {},
   "source": [
    "Before looking at the distribution of this variables, I create a smaller dataset in order to include this variables that will be useful for future analysis. In addition, since 'average speed' is not in the original dataset we manually calculate this quantity (average speed is in km/h)."
   ]
  },
  {
   "cell_type": "code",
   "execution_count": 302,
   "metadata": {},
   "outputs": [
    {
     "name": "stdout",
     "output_type": "stream",
     "text": [
      "The reduced dataset contains 209 rows and 7 columns\n"
     ]
    }
   ],
   "source": [
    "cd['average_speed']=cd['distance']/(cd['moving_time']/60)\n",
    "df=cd[['Distance','moving_time','average_speed','average_heartrate','average_watts','NP','TSS']]\n",
    "print('The reduced dataset contains',df.shape[0],'rows and',df.shape[1],'columns')"
   ]
  },
  {
   "cell_type": "markdown",
   "metadata": {},
   "source": [
    "# DATA ANALYSYS"
   ]
  },
  {
   "cell_type": "code",
   "execution_count": 303,
   "metadata": {
    "scrolled": true
   },
   "outputs": [
    {
     "data": {
      "image/png": "[encoded data removed]",
      "text/plain": [
       "<Figure size 432x288 with 1 Axes>"
      ]
     },
     "metadata": {
      "needs_background": "light"
     },
     "output_type": "display_data"
    }
   ],
   "source": [
    "#TIME -> 'moving_time'\n",
    "df['moving_time'].plot.hist(grid=True,color='#607c8e',rwidth=1,bins=20)\n",
    "plt.title('Total time travelled')\n",
    "plt.xlabel('Time in minutes')\n",
    "plt.ylabel('Frequency')\n",
    "plt.grid(axis='y', alpha=0.75)\n"
   ]
  },
  {
   "cell_type": "markdown",
   "metadata": {},
   "source": [
    "It looks that the variable 'moving_time' is a multimodal distribution.By looking at the graph, it is possible to see at least 3 peaks around 20,60 and 140 minutes. In addition, a possible outlier can be identified in the right hand side of the graph (after 200 minutes)."
   ]
  },
  {
   "cell_type": "code",
   "execution_count": 304,
   "metadata": {},
   "outputs": [
    {
     "data": {
      "image/png": "[encoded data removed]",
      "text/plain": [
       "<Figure size 432x288 with 1 Axes>"
      ]
     },
     "metadata": {
      "needs_background": "light"
     },
     "output_type": "display_data"
    }
   ],
   "source": [
    "#DISTANCE -> 'distance'\n",
    "df['Distance'].plot.hist(grid=True,color='#607c8e',rwidth=1,bins=20)\n",
    "plt.title('Distance travelled')\n",
    "plt.xlabel('Distance in km')\n",
    "plt.ylabel('Count')\n",
    "plt.grid(axis='y', alpha=0.75)"
   ]
  },
  {
   "cell_type": "markdown",
   "metadata": {},
   "source": [
    "Similar consideration can be made for the distance.Once again, the distrubution is multimodal with peaks at 10,30 and 60 km. Some outliers can be identified in the right hand side of the graph (around 100 km)."
   ]
  },
  {
   "cell_type": "code",
   "execution_count": 305,
   "metadata": {},
   "outputs": [
    {
     "data": {
      "text/plain": [
       "Text(0.5, 1.0, 'Average_speed')"
      ]
     },
     "execution_count": 305,
     "metadata": {},
     "output_type": "execute_result"
    },
    {
     "data": {
      "image/png": "[encoded data removed]",
      "text/plain": [
       "<Figure size 432x288 with 2 Axes>"
      ]
     },
     "metadata": {
      "needs_background": "light"
     },
     "output_type": "display_data"
    }
   ],
   "source": [
    "#SPEED -> 'average_speed'\n",
    "plt.subplot(1, 2, 1)\n",
    "df['average_speed'].plot.hist(grid=True,color='#607c8e',rwidth=1,bins=20)\n",
    "plt.title('Average_speed')\n",
    "plt.xlabel('Speed in km/h')\n",
    "plt.ylabel('Count')\n",
    "plt.grid(axis='y', alpha=0.75)\n",
    "plt.subplot(1, 2, 2)\n",
    "sns.boxplot(df[\"average_speed\"] )\n",
    "plt.title('Average_speed')"
   ]
  },
  {
   "cell_type": "markdown",
   "metadata": {},
   "source": [
    "The distribution of speed looks reasonably normal distributed.However, for a better interpretation and visualization I am going to show this graph without the outliers. Outliers can be easily visualized thank to the boxplot. According to that, we can see some data points the sit outside the fences. In fact, there are some unusual small values such as 0km/h and unusual large values around 35km/h."
   ]
  },
  {
   "cell_type": "code",
   "execution_count": 306,
   "metadata": {},
   "outputs": [
    {
     "data": {
      "text/plain": [
       "Text(0, 0.5, 'Count')"
      ]
     },
     "execution_count": 306,
     "metadata": {},
     "output_type": "execute_result"
    },
    {
     "data": {
      "image/png": "[encoded data removed]",
      "text/plain": [
       "<Figure size 432x288 with 1 Axes>"
      ]
     },
     "metadata": {
      "needs_background": "light"
     },
     "output_type": "display_data"
    }
   ],
   "source": [
    "IQR=np.percentile(df.average_speed, 75) - np.percentile(df.average_speed, 25) \n",
    "fence_low  = np.percentile(df.average_speed, 25) -1.5*IQR\n",
    "fence_high = np.percentile(df.average_speed, 75) +1.5*IQR\n",
    "df_in = df.loc[(df['average_speed'] > fence_low) & (df['average_speed'] < fence_high)]\n",
    "#df_in['average_speed'].plot.hist(grid=True,color='#607c8e',rwidth=1,bins=20)\n",
    "sns.distplot(df_in.average_speed, kde=True);\n",
    "plt.title('Average_speed')\n",
    "plt.xlabel('Speed in km/h')\n",
    "plt.ylabel('Count')"
   ]
  },
  {
   "cell_type": "markdown",
   "metadata": {},
   "source": [
    "After removing the outliers, the distribution of 'Average_speed' looks normally distributed with an average speed around 25km/h. The observation given above can be confirmed below by calculating the mean value of the \"cleaned\" dataset. "
   ]
  },
  {
   "cell_type": "code",
   "execution_count": 307,
   "metadata": {},
   "outputs": [
    {
     "data": {
      "text/plain": [
       "24.812099637502033"
      ]
     },
     "execution_count": 307,
     "metadata": {},
     "output_type": "execute_result"
    }
   ],
   "source": [
    "df_in['average_speed'].mean()"
   ]
  },
  {
   "cell_type": "code",
   "execution_count": 308,
   "metadata": {},
   "outputs": [
    {
     "data": {
      "image/png": "[encoded data removed]",
      "text/plain": [
       "<Figure size 432x288 with 1 Axes>"
      ]
     },
     "metadata": {
      "needs_background": "light"
     },
     "output_type": "display_data"
    }
   ],
   "source": [
    "#POWER -> 'average power'\n",
    "df['average_watts'].plot.hist(grid=True,color='#607c8e',rwidth=1,bins=20)\n",
    "plt.title('Average power during effort')\n",
    "plt.xlabel('Average power')\n",
    "plt.ylabel('Count')\n",
    "plt.grid(axis='y', alpha=0.75)"
   ]
  },
  {
   "cell_type": "markdown",
   "metadata": {},
   "source": [
    "It looks that the variable 'average_watts' is a multimodal distribution.By looking at the graph, it is possible to see at least 3 peaks around 130,160 and 190.Since the distribution is multimodal, no assumption of normal distribution can be made."
   ]
  },
  {
   "cell_type": "code",
   "execution_count": 309,
   "metadata": {},
   "outputs": [
    {
     "data": {
      "image/png": "[encoded data removed]",
      "text/plain": [
       "<Figure size 432x288 with 1 Axes>"
      ]
     },
     "metadata": {
      "needs_background": "light"
     },
     "output_type": "display_data"
    }
   ],
   "source": [
    "#Training Stress Score -> 'TSS'\n",
    "df['TSS'].plot.hist(grid=True,color='#607c8e',rwidth=1,bins=20)\n",
    "plt.title('Training Stress Score')\n",
    "plt.xlabel('TSS')\n",
    "plt.ylabel('Count')\n",
    "plt.grid(axis='y', alpha=0.75)"
   ]
  },
  {
   "cell_type": "markdown",
   "metadata": {},
   "source": [
    "According to his definition, Training Stress Score® (TSS) is a way of measuring how much stress is put on the body from a ride.By looking at the graph, the majority of the rides recorded a TSS below 200 which means that the recovery time after the ride will be within day. The distribution is not symmetric (skewed to the right). In this case the mean is higher than the median even because the right hand side outliers (around 400) influence the mean and make it larger.\n",
    "Values higher than 300 mean that the cyclist needs at least two days after ride to fully recover."
   ]
  },
  {
   "cell_type": "markdown",
   "metadata": {},
   "source": [
    "3)Explore the relationships between the following variables. Are any of them correlated with each other (do they vary together in a predictable way)? Can you explain any relationships you observe?\n",
    "    * Distance\n",
    "    * Moving Time\n",
    "    * Average Speed \n",
    "    * Heart Rate\n",
    "    * Power (watts)\n",
    "    * Normalised power (NP)\n",
    "    * Training Stress Score\n",
    "    \n",
    "In order to see if there are any correlations between these variables we first create a correlation matrix and then create a scatterplot matrix to better visualize these relations "
   ]
  },
  {
   "cell_type": "code",
   "execution_count": 310,
   "metadata": {},
   "outputs": [
    {
     "data": {
      "text/plain": [
       "<matplotlib.axes._subplots.AxesSubplot at 0x1a1fb612e8>"
      ]
     },
     "execution_count": 310,
     "metadata": {},
     "output_type": "execute_result"
    },
    {
     "data": {
      "image/png": "[encoded data removed]",
      "text/plain": [
       "<Figure size 432x288 with 2 Axes>"
      ]
     },
     "metadata": {
      "needs_background": "light"
     },
     "output_type": "display_data"
    }
   ],
   "source": [
    "corrmat=df.corr()\n",
    "sns.heatmap(corrmat,vmin=-1, vmax=1, square= True,annot=True,cmap='coolwarm')"
   ]
  },
  {
   "cell_type": "markdown",
   "metadata": {},
   "source": [
    "Cells with dark red colour and dark blue color shown a strong linear relations. In particular, red colour displays positive linear relation while blue colour shows negative linear relations between variables.\n",
    "Quite perfect positive linear relations are seen for example for distance and moving time. This is quite obvious : as the distance increases the time increases too.\n",
    "#comment TSS AND DISTANCE (include the actual values)\n",
    "#No negative linear relations"
   ]
  },
  {
   "cell_type": "markdown",
   "metadata": {},
   "source": [
    "## Required Analysis(TO BE CANCELLED)\n",
    "\n",
    "1. Remove rides with no measured power (where device_watts is False) - these are commutes or MTB rides\n",
    "* Look at the distributions of some key variables: time, distance, average speed, average power, TSS. Are they normally distributed? Skewed? \n",
    "* Explore the relationships between the following variables. Are any of them corrolated with each other (do they vary together in a predictable way)? Can you explain any relationships you observe?  \n",
    "    * Distance\n",
    "    * Moving Time\n",
    "    * Average Speed\n",
    "    * Heart Rate\n",
    "    * Power (watts)\n",
    "    * Normalised power (NP)\n",
    "    * Training Stress Score\n",
    "    * Elevation Gain\n",
    "* We want to explore the differences between the three categories: `Race`, `Workout` and `Ride`.\n",
    "    * Use scatter plots with different colours for each category to explore how these categories differ.  \n",
    "    * Use histograms or box plots to visualise the different distributions of a variable for the three categories.\n",
    "    * In both cases, experiment with different variables but only include those that are interesting in your final notebook (if none are interesting, show us a representative example).\n",
    "\n",
    "\n",
    "## Challenge\n",
    "\n",
    "* What leads to more `kudos`? Is there anything to indicate which rides are more popular? Explore the relationship between the main variables and kudos. Show a plot and comment on any relationship you observe. \n",
    "\n",
    "* Generate a plot that summarises the number of km ridden each month over the period of the data. Overlay this with the _sum_ of the Training Stress Score and the _average_ of the Average Speed to generate an overall summary of activity.\n",
    "\n",
    "* Generate a similar graph but one that shows the activity over a given month, with the sum of the values for each day of the month shown.  So, if there are two rides on a given day, the graph should show the sum of the distances etc for these rides.\n",
    "\n",
    "Hint: to generate these summary plots you need to use the [timeseries/date functionality](https://pandas.pydata.org/pandas-docs/stable/user_guide/timeseries.html) in Pandas to generate a new data frame containing the required data.  \n",
    "\n",
    "__Note:__ once you have completed these steps you can remove this cell.  Use the text as a starting point for the documentation of your workflow and discussion of results.\n"
   ]
  },
  {
   "cell_type": "code",
   "execution_count": null,
   "metadata": {},
   "outputs": [],
   "source": []
  }
 ],
 "metadata": {
  "kernelspec": {
   "display_name": "Python 3",
   "language": "python",
   "name": "python3"
  },
  "language_info": {
   "codemirror_mode": {
    "name": "ipython",
    "version": 3
   },
   "file_extension": ".py",
   "mimetype": "text/x-python",
   "name": "python",
   "nbconvert_exporter": "python",
   "pygments_lexer": "ipython3",
   "version": "3.7.3"
  }
 },
 "nbformat": 4,
 "nbformat_minor": 2
}
